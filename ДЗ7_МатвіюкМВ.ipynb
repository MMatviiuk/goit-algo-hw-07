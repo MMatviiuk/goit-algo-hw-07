{
  "nbformat": 4,
  "nbformat_minor": 0,
  "metadata": {
    "colab": {
      "provenance": []
    },
    "kernelspec": {
      "name": "python3",
      "display_name": "Python 3"
    },
    "language_info": {
      "name": "python"
    }
  },
  "cells": [
    {
      "cell_type": "code",
      "execution_count": 5,
      "metadata": {
        "id": "jxqKJ9pQafsT"
      },
      "outputs": [],
      "source": []
    },
    {
      "cell_type": "markdown",
      "source": [
        "# **Завдання 1.**"
      ],
      "metadata": {
        "id": "nyl-ZxsRbaT1"
      }
    },
    {
      "cell_type": "code",
      "source": [
        "class AVLNode:\n",
        "    def __init__(self, key):\n",
        "        self.left = None\n",
        "        self.right = None\n",
        "        self.val = key\n",
        "        self.height = 1  # Початкова висота вузла - 1\n",
        "\n",
        "class AVLTree:\n",
        "    def insert(self, root, key):\n",
        "        if not root:\n",
        "            return AVLNode(key)  # Якщо дерево порожнє, повертаємо новий вузол з ключем\n",
        "        elif key < root.val:\n",
        "            root.left = self.insert(root.left, key)  # Рекурсивно вставляємо вліво\n",
        "        else:\n",
        "            root.right = self.insert(root.right, key)  # Рекурсивно вставляємо вправо\n",
        "\n",
        "        # Оновлюємо висоту поточного вузла\n",
        "        root.height = 1 + max(self.get_height(root.left), self.get_height(root.right))\n",
        "\n",
        "        # Перевіряємо баланс та виконуємо повороти при необхідності\n",
        "        balance = self.get_balance(root)\n",
        "\n",
        "        # Лівий лівий випадок\n",
        "        if balance > 1 and key < root.left.val:\n",
        "            return self.right_rotate(root)\n",
        "\n",
        "        # Правий правий випадок\n",
        "        if balance < -1 and key > root.right.val:\n",
        "            return self.left_rotate(root)\n",
        "\n",
        "        # Лівий правий випадок\n",
        "        if balance > 1 and key > root.left.val:\n",
        "            root.left = self.left_rotate(root.left)\n",
        "            return self.right_rotate(root)\n",
        "\n",
        "        # Правий лівий випадок\n",
        "        if balance < -1 and key < root.right.val:\n",
        "            root.right = self.right_rotate(root.right)\n",
        "            return self.left_rotate(root)\n",
        "\n",
        "        return root\n",
        "\n",
        "    def left_rotate(self, z):\n",
        "        y = z.right\n",
        "        T2 = y.left\n",
        "        # Виконуємо поворот\n",
        "        y.left = z\n",
        "        z.right = T2\n",
        "        # Оновлюємо висоти\n",
        "        z.height = 1 + max(self.get_height(z.left), self.get_height(z.right))\n",
        "        y.height = 1 + max(self.get_height(y.left), self.get_height(y.right))\n",
        "        return y\n",
        "\n",
        "    def right_rotate(self, z):\n",
        "        y = z.left\n",
        "        T3 = y.right\n",
        "        # Виконуємо поворот\n",
        "        y.right = z\n",
        "        z.left = T3\n",
        "        # Оновлюємо висоти\n",
        "        z.height = 1 + max(self.get_height(z.left), self.get_height(z.right))\n",
        "        y.height = 1 + max(self.get_height(y.left), self.get_height(y.right))\n",
        "        return y\n",
        "\n",
        "    def get_height(self, root):\n",
        "        if not root:\n",
        "            return 0\n",
        "        return root.height\n",
        "\n",
        "    def get_balance(self, root):\n",
        "        if not root:\n",
        "            return 0\n",
        "        return self.get_height(root.left) - self.get_height(root.right)\n",
        "\n",
        "    def find_max(self, root):\n",
        "        current_node = root\n",
        "        while current_node.right is not None:\n",
        "            current_node = current_node.right\n",
        "        return current_node.val\n",
        "\n",
        "# Приклад використання\n",
        "avl = AVLTree()\n",
        "root = None\n",
        "values = [30, 15, 50, 10, 20, 40, 60]\n",
        "for val in values:\n",
        "    root = avl.insert(root, val)\n",
        "\n",
        "print(\"Найбільше значення у дереві:\", avl.find_max(root))  # Виведення максимального значення\n"
      ],
      "metadata": {
        "colab": {
          "base_uri": "https://localhost:8080/"
        },
        "id": "C2-wbypgbd5j",
        "outputId": "8d4e5472-c8e5-422a-e06b-71846524c72f"
      },
      "execution_count": 6,
      "outputs": [
        {
          "output_type": "stream",
          "name": "stdout",
          "text": [
            "Найбільше значення у дереві: 60\n"
          ]
        }
      ]
    },
    {
      "cell_type": "markdown",
      "source": [
        "# **Завдання 2.**"
      ],
      "metadata": {
        "id": "JNa9WppecCLa"
      }
    },
    {
      "cell_type": "code",
      "source": [
        "class AVLNode:\n",
        "    def __init__(self, key):\n",
        "        self.left = None\n",
        "        self.right = None\n",
        "        self.val = key\n",
        "        self.height = 1  # Початкова висота вузла - 1\n",
        "\n",
        "class AVLTree:\n",
        "    def insert(self, root, key):\n",
        "        if not root:\n",
        "            return AVLNode(key)  # Створюємо новий вузол, якщо дерево порожнє\n",
        "        elif key < root.val:\n",
        "            root.left = self.insert(root.left, key)  # Вставляємо вліво, якщо ключ менший\n",
        "        else:\n",
        "            root.right = self.insert(root.right, key)  # Вставляємо вправо, якщо ключ більший\n",
        "\n",
        "        # Оновлюємо висоту поточного вузла\n",
        "        root.height = 1 + max(self.get_height(root.left), self.get_height(root.right))\n",
        "\n",
        "        # Перевіряємо баланс та виконуємо повороти при необхідності\n",
        "        balance = self.get_balance(root)\n",
        "\n",
        "        # Лівий лівий випадок\n",
        "        if balance > 1 and key < root.left.val:\n",
        "            return self.right_rotate(root)\n",
        "\n",
        "        # Правий правий випадок\n",
        "        if balance < -1 and key > root.right.val:\n",
        "            return self.left_rotate(root)\n",
        "\n",
        "        # Лівий правий випадок\n",
        "        if balance > 1 and key > root.left.val:\n",
        "            root.left = self.left_rotate(root.left)\n",
        "            return self.right_rotate(root)\n",
        "\n",
        "        # Правий лівий випадок\n",
        "        if balance < -1 and key < root.right.val:\n",
        "            root.right = self.right_rotate(root.right)\n",
        "            return self.left_rotate(root)\n",
        "\n",
        "        return root\n",
        "\n",
        "    def left_rotate(self, z):\n",
        "        y = z.right\n",
        "        T2 = y.left\n",
        "        # Виконуємо лівий поворот\n",
        "        y.left = z\n",
        "        z.right = T2\n",
        "        # Оновлюємо висоти\n",
        "        z.height = 1 + max(self.get_height(z.left), self.get_height(z.right))\n",
        "        y.height = 1 + max(self.get_height(y.left), self.get_height(y.right))\n",
        "        return y\n",
        "\n",
        "    def right_rotate(self, z):\n",
        "        y = z.left\n",
        "        T3 = y.right\n",
        "        # Виконуємо правий поворот\n",
        "        y.right = z\n",
        "        z.left = T3\n",
        "        # Оновлюємо висоти\n",
        "        z.height = 1 + max(self.get_height(z.left), self.get_height(z.right))\n",
        "        y.height = 1 + max(self.get_height(y.left), self.get_height(y.right))\n",
        "        return y\n",
        "\n",
        "    def get_height(self, root):\n",
        "        if not root:\n",
        "            return 0\n",
        "        return root.height\n",
        "\n",
        "    def get_balance(self, root):\n",
        "        if not root:\n",
        "            return 0\n",
        "        return self.get_height(root.left) - self.get_height(root.right)\n",
        "\n",
        "    def find_min(self, root):\n",
        "        current_node = root\n",
        "        while current_node.left is not None:\n",
        "            current_node = current_node.left\n",
        "        return current_node.val\n",
        "\n",
        "# Приклад використання\n",
        "avl = AVLTree()\n",
        "root = None\n",
        "values = [30, 15, 50, 10, 20, 40, 60]\n",
        "for val in values:\n",
        "    root = avl.insert(root, val)\n",
        "\n",
        "print(\"Найменше значення у дереві:\", avl.find_min(root))  # Знаходження найменшого значення\n"
      ],
      "metadata": {
        "colab": {
          "base_uri": "https://localhost:8080/"
        },
        "id": "_mcKJZ6LcFoO",
        "outputId": "145338dd-e7ab-40f2-945d-294708e08b0b"
      },
      "execution_count": 7,
      "outputs": [
        {
          "output_type": "stream",
          "name": "stdout",
          "text": [
            "Найменше значення у дереві: 10\n"
          ]
        }
      ]
    },
    {
      "cell_type": "markdown",
      "source": [
        "# **Завдання 3**"
      ],
      "metadata": {
        "id": "Wq-ltZBYcutc"
      }
    },
    {
      "cell_type": "code",
      "source": [
        "class AVLNode:\n",
        "    def __init__(self, key):\n",
        "        self.left = None\n",
        "        self.right = None\n",
        "        self.val = key\n",
        "        self.height = 1\n",
        "\n",
        "class AVLTree:\n",
        "    def insert(self, root, key):\n",
        "        if not root:\n",
        "            return AVLNode(key)\n",
        "        elif key < root.val:\n",
        "            root.left = self.insert(root.left, key)\n",
        "        else:\n",
        "            root.right = self.insert(root.right, key)\n",
        "\n",
        "        root.height = 1 + max(self.get_height(root.left), self.get_height(root.right))\n",
        "\n",
        "        balance = self.get_balance(root)\n",
        "\n",
        "        # Лівий лівий випадок\n",
        "        if balance > 1 and key < root.left.val:\n",
        "            return self.right_rotate(root)\n",
        "\n",
        "        # Правий правий випадок\n",
        "        if balance < -1 and key > root.right.val:\n",
        "            return self.left_rotate(root)\n",
        "\n",
        "        # Лівий правий випадок\n",
        "        if balance > 1 and key > root.left.val:\n",
        "            root.left = self.left_rotate(root.left)\n",
        "            return self.right_rotate(root)\n",
        "\n",
        "        # Правий лівий випадок\n",
        "        if balance < -1 and key < root.right.val:\n",
        "            root.right = self.right_rotate(root.right)\n",
        "            return self.left_rotate(root)\n",
        "\n",
        "        return root\n",
        "\n",
        "    def left_rotate(self, z):\n",
        "        y = z.right\n",
        "        T2 = y.left\n",
        "        y.left = z\n",
        "        z.right = T2\n",
        "        z.height = 1 + max(self.get_height(z.left), self.get_height(z.right))\n",
        "        y.height = 1 + max(self.get_height(y.left), self.get_height(y.right))\n",
        "        return y\n",
        "\n",
        "    def right_rotate(self, z):\n",
        "        y = z.left\n",
        "        T3 = y.right\n",
        "        y.right = z\n",
        "        z.left = T3\n",
        "        z.height = 1 + max(self.get_height(z.left), self.get_height(z.right))\n",
        "        y.height = 1 + max(self.get_height(y.left), self.get_height(y.right))\n",
        "        return y\n",
        "\n",
        "    def get_height(self, root):\n",
        "        if not root:\n",
        "            return 0\n",
        "        return root.height\n",
        "\n",
        "    def get_balance(self, root):\n",
        "        if not root:\n",
        "            return 0\n",
        "        return self.get_height(root.left) - self.get_height(root.right)\n",
        "\n",
        "    def sum_values(self, root):\n",
        "        if root is None:\n",
        "            return 0\n",
        "        return root.val + self.sum_values(root.left) + self.sum_values(root.right)\n",
        "\n",
        "# Приклад використання\n",
        "avl = AVLTree()\n",
        "root = None\n",
        "values = [30, 15, 50, 10, 20, 40, 60]\n",
        "for val in values:\n",
        "    root = avl.insert(root, val)\n",
        "\n",
        "print(\"Сума всіх значень у дереві:\", avl.sum_values(root))  # Вивід суми всіх значень у дереві\n"
      ],
      "metadata": {
        "colab": {
          "base_uri": "https://localhost:8080/"
        },
        "id": "FeADfIVZcygr",
        "outputId": "6e43b494-67dd-47ef-d3e3-4d334613c43e"
      },
      "execution_count": 8,
      "outputs": [
        {
          "output_type": "stream",
          "name": "stdout",
          "text": [
            "Сума всіх значень у дереві: 225\n"
          ]
        }
      ]
    },
    {
      "cell_type": "markdown",
      "source": [
        "# Завдання 4"
      ],
      "metadata": {
        "id": "yRsJb3rRdZHr"
      }
    },
    {
      "cell_type": "code",
      "source": [
        "class Comment:\n",
        "    def __init__(self, text, author):\n",
        "        self.text = text\n",
        "        self.author = author\n",
        "        self.replies = []\n",
        "        self.is_deleted = False\n",
        "\n",
        "    def add_reply(self, reply):\n",
        "        self.replies.append(reply)\n",
        "\n",
        "    def remove_reply(self):\n",
        "        self.text = \"Цей коментар було видалено.\"\n",
        "        self.is_deleted = True\n",
        "\n",
        "    def display(self, indent=0):\n",
        "        print(' ' * indent + f\"{self.author}: {self.text}\")  # Виведення коментаря з відповідним відступом\n",
        "        for reply in self.replies:\n",
        "            reply.display(indent + 4)  # Рекурсивний виклик для виведення відповідей з більшим відступом\n",
        "\n",
        "# Приклад використання\n",
        "root_comment = Comment(\"Яка чудова книга!\", \"Бодя\")\n",
        "reply1 = Comment(\"Книга повне розчарування :(\", \"Андрій\")\n",
        "reply2 = Comment(\"Що в ній чудового?\", \"Марина\")\n",
        "\n",
        "root_comment.add_reply(reply1)\n",
        "root_comment.add_reply(reply2)\n",
        "\n",
        "reply1_1 = Comment(\"Не книжка, а перевели купу паперу ні нащо...\", \"Сергій\")\n",
        "reply1.add_reply(reply1_1)\n",
        "\n",
        "reply1.remove_reply()\n",
        "\n",
        "root_comment.display()\n"
      ],
      "metadata": {
        "colab": {
          "base_uri": "https://localhost:8080/"
        },
        "id": "my7a3iAQdazc",
        "outputId": "81b166bb-7aeb-4c34-e438-f40ab855d0ce"
      },
      "execution_count": 14,
      "outputs": [
        {
          "output_type": "stream",
          "name": "stdout",
          "text": [
            "Бодя: Яка чудова книга!\n",
            "    Андрій: Цей коментар було видалено.\n",
            "        Сергій: Не книжка, а перевели купу паперу ні нащо...\n",
            "    Марина: Що в ній чудового?\n"
          ]
        }
      ]
    }
  ]
}